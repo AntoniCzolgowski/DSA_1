{
  "nbformat": 4,
  "nbformat_minor": 0,
  "metadata": {
    "colab": {
      "provenance": [],
      "authorship_tag": "ABX9TyNdunX0X6tNDweJhFVGbhBZ",
      "include_colab_link": true
    },
    "kernelspec": {
      "name": "python3",
      "display_name": "Python 3"
    },
    "language_info": {
      "name": "python"
    }
  },
  "cells": [
    {
      "cell_type": "markdown",
      "metadata": {
        "id": "view-in-github",
        "colab_type": "text"
      },
      "source": [
        "<a href=\"https://colab.research.google.com/github/AntoniCzolgowski/DSA_1/blob/main/DSA_GroupAssignement1_PART1.ipynb\" target=\"_parent\"><img src=\"https://colab.research.google.com/assets/colab-badge.svg\" alt=\"Open In Colab\"/></a>"
      ]
    },
    {
      "cell_type": "code",
      "execution_count": 2,
      "metadata": {
        "id": "5ryr6JXxRgQ9"
      },
      "outputs": [],
      "source": [
        "class Event:\n",
        "    def __init__(self, event_id, title, date, time, location):\n",
        "        self.id = event_id\n",
        "        self.title = title\n",
        "        self.date = date\n",
        "        self.time = time\n",
        "        self.location = location\n",
        "\n",
        "    def __repr__(self):\n",
        "        return f\"Event({self.id}, '{self.title}', {self.date}, {self.time}, '{self.location}')\"\n",
        "\n",
        "# Array-Based List Implementation\n",
        "\n",
        "class EventArrayList:\n",
        "    def __init__(self):\n",
        "        self.events = []\n",
        "\n",
        "    def insert(self, event):\n",
        "        self.events.append(event)\n",
        "\n",
        "    def delete(self, event_id):\n",
        "        for i, event in enumerate(self.events):\n",
        "            if event.id == event_id:\n",
        "                del self.events[i]\n",
        "                return True\n",
        "        return False\n",
        "\n",
        "    def search_by_id(self, event_id):\n",
        "        for event in self.events:\n",
        "            if event.id == event_id:\n",
        "                return event\n",
        "        return None\n",
        "\n",
        "    def list_all(self):\n",
        "        return self.events.copy()\n",
        "\n",
        "# Singly Linked List Implementation\n",
        "\n",
        "class Node:\n",
        "    def __init__(self, event):\n",
        "        self.event = event\n",
        "        self.next = None\n",
        "\n",
        "class EventLinkedList:\n",
        "    def __init__(self):\n",
        "        self.head = None\n",
        "\n",
        "    def insert(self, event):\n",
        "        new_node = Node(event)\n",
        "        new_node.next = self.head\n",
        "        self.head = new_node\n",
        "\n",
        "    def delete(self, event_id):\n",
        "        current = self.head\n",
        "        prev = None\n",
        "        while current:\n",
        "            if current.event.id == event_id:\n",
        "                if prev:\n",
        "                    prev.next = current.next\n",
        "                else:\n",
        "                    self.head = current.next\n",
        "                return True\n",
        "            prev = current\n",
        "            current = current.next\n",
        "        return False\n",
        "\n",
        "    def search_by_id(self, event_id):\n",
        "        current = self.head\n",
        "        while current:\n",
        "            if current.event.id == event_id:\n",
        "                return current.event\n",
        "            current = current.next\n",
        "        return None\n",
        "\n",
        "    def list_all(self):\n",
        "        events = []\n",
        "        current = self.head\n",
        "        while current:\n",
        "            events.append(current.event)\n",
        "            current = current.next\n",
        "        return events"
      ]
    },
    {
      "cell_type": "code",
      "source": [
        "# Creating some sample events\n",
        "e1 = Event(1, \"Hackathon\", \"2025-10-10\", \"10:00\", \"Auditorium\")\n",
        "e2 = Event(2, \"Concert\", \"2025-11-01\", \"19:00\", \"Main Hall\")\n",
        "\n",
        "# Test Array-Based List\n",
        "\n",
        "print(\"\\n--- Array List Demo ---\")\n",
        "array_store = EventArrayList()\n",
        "array_store.insert(e1)\n",
        "array_store.insert(e2)\n",
        "print(\"All Events:\", array_store.list_all())\n",
        "print(\"Search ID 2:\", array_store.search_by_id(2))\n",
        "array_store.delete(1)\n",
        "print(\"After Deletion:\", array_store.list_all())\n",
        "\n",
        "# Test Linked List\n",
        "\n",
        "print(\"\\n--- Linked List Demo ---\")\n",
        "linked_store = EventLinkedList()\n",
        "linked_store.insert(e1)\n",
        "linked_store.insert(e2)\n",
        "print(\"All Events:\", linked_store.list_all())\n",
        "print(\"Search ID 1:\", linked_store.search_by_id(1))\n",
        "linked_store.delete(2)\n",
        "print(\"After Deletion:\", linked_store.list_all())"
      ],
      "metadata": {
        "colab": {
          "base_uri": "https://localhost:8080/"
        },
        "id": "sAyxslh0RnCB",
        "outputId": "67f16b45-b3a1-444e-f7cd-0e4ad4811424"
      },
      "execution_count": 3,
      "outputs": [
        {
          "output_type": "stream",
          "name": "stdout",
          "text": [
            "\n",
            "--- Array List Demo ---\n",
            "All Events: [Event(1, 'Hackathon', 2025-10-10, 10:00, 'Auditorium'), Event(2, 'Concert', 2025-11-01, 19:00, 'Main Hall')]\n",
            "Search ID 2: Event(2, 'Concert', 2025-11-01, 19:00, 'Main Hall')\n",
            "After Deletion: [Event(2, 'Concert', 2025-11-01, 19:00, 'Main Hall')]\n",
            "\n",
            "--- Linked List Demo ---\n",
            "All Events: [Event(2, 'Concert', 2025-11-01, 19:00, 'Main Hall'), Event(1, 'Hackathon', 2025-10-10, 10:00, 'Auditorium')]\n",
            "Search ID 1: Event(1, 'Hackathon', 2025-10-10, 10:00, 'Auditorium')\n",
            "After Deletion: [Event(1, 'Hackathon', 2025-10-10, 10:00, 'Auditorium')]\n"
          ]
        }
      ]
    }
  ]
}
