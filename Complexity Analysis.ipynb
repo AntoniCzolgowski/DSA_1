{
 "cells": [
  {
   "cell_type": "markdown",
   "id": "29962cc1",
   "metadata": {},
   "source": [
    "## Complexity Analysis - Part A: Event Storage Structures\n",
    "\n",
    "The EventArrayList implementation uses a dynamic array approach where most insert operations run in O(1) time by simply placing an event at `self.events[self.size]` and incrementing the size counter. However, when the array becomes full (`self.size == self.capacity`), the `_resize()` method creates a new array with double the capacity and copies all existing elements, which takes O(n) time. Because the capacity doubles with each resize (4→8→16→32), these expensive copy operations happen less and less frequently as the array grows, making the average insertion very fast even though occasional insertions are slow. The delete operation always requires O(n) time because the code must first search through the array with `for i in range(self.size)` to find the target event, then shift all following elements leftward using `for j in range(i, self.size - 1)` to fill the gap. Similarly, `search_by_id()` must scan through the array linearly, checking each element until finding a match or reaching the end.\n",
    "\n",
    "The EventLinkedList implementation achieves true O(1) insertion every time by always adding new nodes at the head with just two pointer updates: `new_node.next = self.head` and `self.head = new_node`. This avoids the occasional slowdown that arrays experience during resizing. However, deletion and search both require O(n) time because the code must traverse the linked structure node by node using `while current:` loops until finding the target or reaching the end. Once a node is located, the actual deletion only updates pointers in O(1) time, but the search phase dominates the overall complexity. \n",
    "\n",
    "\n",
    "Both structures use O(n) space to store n events, but they differ in memory efficiency: arrays waste some space in unused capacity slots (if size=5 but capacity=8, three slots sit empty), while linked lists use extra memory for the next pointer in every node (essentially doubling the pointer storage compared to arrays).\n",
    "\n",
    "---\n",
    "\n",
    "\n"
   ]
  },
  {
   "cell_type": "markdown",
   "id": "d3312000",
   "metadata": {},
   "source": [
    "| Operation | EventArrayList | EventLinkedList |\n",
    "|-----------|----------------|-----------------|\n",
    "| **insert()** | O(1) typical, O(n) when resize | O(1) always |\n",
    "| **delete()** | O(n) | O(n) |\n",
    "| **search_by_id()** | O(n) | O(n) |\n",
    "| **list_all()** | O(n) | O(n) |"
   ]
  }
 ],
 "metadata": {
  "kernelspec": {
   "display_name": "Python 3",
   "language": "python",
   "name": "python3"
  },
  "language_info": {
   "codemirror_mode": {
    "name": "ipython",
    "version": 3
   },
   "file_extension": ".py",
   "mimetype": "text/x-python",
   "name": "python",
   "nbconvert_exporter": "python",
   "pygments_lexer": "ipython3",
   "version": "3.13.5"
  }
 },
 "nbformat": 4,
 "nbformat_minor": 5
}
